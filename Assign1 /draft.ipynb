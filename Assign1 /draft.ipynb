{
 "cells": [
  {
   "cell_type": "code",
   "execution_count": 1,
   "metadata": {},
   "outputs": [
    {
     "name": "stdout",
     "output_type": "stream",
     "text": [
      "9\n",
      "8\n",
      "7\n",
      "6\n",
      "5\n",
      "4\n",
      "3\n",
      "2\n",
      "1\n",
      "0\n"
     ]
    }
   ],
   "source": [
    "# DFS iteration: stack\n",
    "# # path store in stack\n",
    "frontier = [[start]]\n",
    "while frontier:\n",
    "    # pop the last element from the stack\n",
    "    cur_path = frontier.pop(-1)\n",
    "    cur_node = cur_path[-1]\n",
    "    visited.add(cur_node)\n",
    "    if cur_node == goal:\n",
    "        return cur_path\n",
    "    # depth ? len(cur_path)\n",
    "    for n in neighbour_fn(cur_node):\n",
    "        if reachable(n) and not visited(n):\n",
    "            candi_path = cur_path.append(n)\n",
    "            frontier.append(candi_path)\n"
   ]
  },
  {
   "cell_type": "code",
   "execution_count": null,
   "metadata": {},
   "outputs": [],
   "source": [
    "## Node store in stack\n",
    "parent = {}\n",
    "frontier = [start]\n",
    "while frontier:\n",
    "    # pop\n",
    "    cur_node = frontier.pop(-1)\n",
    "    visited.add(cur_node)\n",
    "    if cur_node == goal:\n",
    "        return cur_path\n",
    "    # depth ? len(cur_path)\n",
    "    for n in neighbour_fn(cur_node):\n",
    "        if reachable(n) and not visited(n):\n",
    "            candi_path = cur_path.append(n)\n",
    "            parent[n] = cur_node\n",
    "            frontier.append(candi_path)\n",
    "            "
   ]
  },
  {
   "cell_type": "code",
   "execution_count": null,
   "metadata": {},
   "outputs": [],
   "source": [
    "# recursion\n",
    "recursion_part(visited, frontier, cur_depth, depth):\n",
    "    cur_node = frontier.pop(-1)\n"
   ]
  }
 ],
 "metadata": {
  "kernelspec": {
   "display_name": "opencv-env",
   "language": "python",
   "name": "python3"
  },
  "language_info": {
   "codemirror_mode": {
    "name": "ipython",
    "version": 3
   },
   "file_extension": ".py",
   "mimetype": "text/x-python",
   "name": "python",
   "nbconvert_exporter": "python",
   "pygments_lexer": "ipython3",
   "version": "3.10.4"
  },
  "orig_nbformat": 4
 },
 "nbformat": 4,
 "nbformat_minor": 2
}
